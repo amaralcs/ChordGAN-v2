{
 "cells": [
  {
   "cell_type": "code",
   "execution_count": null,
   "metadata": {},
   "outputs": [],
   "source": [
    "def tonnetz_dim(x, A=1, w=(7 * np.pi / 6)):\n",
    "    return np.c_[A * np.sin(x * w), A * np.cos(x * w)]\n",
    "    \n",
    "x = np.linspace(0, 12, 50)\n",
    "fifth = tonnetz_dim(x)\n",
    "min_third = tonnetz_dim(x, w=(3 * np.pi / 2))\n",
    "maj_third = tonnetz_dim(x, A=0.5, w=(2 * np.pi / 3))\n",
    "\n",
    "plt.figure(figsize=(12, 10))\n",
    "plt.plot(fifth[:, 0], fifth[:, 1], label=\"fifth\")\n",
    "plt.plot(min_third[:, 0], min_third[:, 1], label=\"min_third\")\n",
    "plt.plot(maj_third[:, 0], maj_third[:, 1], label=\"maj_third\")\n",
    "plt.legend()\n",
    "plt.show()"
   ]
  }
 ],
 "metadata": {
  "interpreter": {
   "hash": "d602c983b35c2d3df99352f4e04ec4fdafbf232df129e6e700a92aab11edd75c"
  },
  "kernelspec": {
   "display_name": "Python 3.9.7 ('chordgan')",
   "language": "python",
   "name": "python3"
  },
  "language_info": {
   "name": "python",
   "version": "3.9.7"
  },
  "orig_nbformat": 4
 },
 "nbformat": 4,
 "nbformat_minor": 2
}
